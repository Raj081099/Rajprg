{
 "cells": [
  {
   "cell_type": "code",
   "execution_count": null,
   "id": "ebcd89ba",
   "metadata": {},
   "outputs": [],
   "source": [
    "# Wap to input a year and check wheather i.e. leap year or not\n",
    "\n",
    "\n",
    "yr=int(input(\"Enter a year \"))\n",
    "if(yr%4==0 and yr%100!=0)or(yr%400==0):\n",
    "    print(\"It is a leap year\")\n",
    "else:\n",
    "    print(\"It in not a leap year\")\n"
   ]
  },
  {
   "cell_type": "code",
   "execution_count": null,
   "id": "e0e3d882",
   "metadata": {},
   "outputs": [],
   "source": [
    "# Wap to input a year and check wheather i.e. leap year or not\n",
    "\n",
    "\n",
    "yr=int(input(\"Enter a year \"))\n",
    "a=yr%4\n",
    "b=yr%100\n",
    "c=yr%400\n",
    "if((a==0 and b!=0)or(c==0)):\n",
    "    print(\"It is a leap year\")\n",
    "else:\n",
    "    print(\"It in not a leap year\")"
   ]
  },
  {
   "cell_type": "code",
   "execution_count": null,
   "id": "e22d8e61",
   "metadata": {},
   "outputs": [],
   "source": [
    "#WAP to enter 6 subjet marks of a student, findout the total and check wheather taht student is fail or pass with which grade\n",
    "\n",
    "\n",
    "fl=float(input(\"Enter First langguage mark \"))\n",
    "sl=float(input(\"Enter Second langguage mark \"))\n",
    "tl=float(input(\"Enter Third langguage mark \"))\n",
    "math=float(input(\"Enter Mathematics mark \"))\n",
    "gsc=float(input(\"Enter General Science mark \"))\n",
    "ssc=float(input(\"Enter Social Science mark \"))\n",
    "tmark=fl+sl+tl+math+gsc+ssc\n",
    "percentage=(tmark/600)*100\n",
    "if(percentage>=33 and percentage<=45):\n",
    "    print(\"Total mark of the student is : \",tmark)\n",
    "    print(\"Percentage of the student :\",percentage)\n",
    "    print(\"The student passed with 'D' grade\")\n",
    "elif(percentage>45 and percentage<=55):\n",
    "    print(\"Total mark of the student is : \",tmark)\n",
    "    print(\"Percentage of the student :\",percentage)\n",
    "    print(\"The student passed with 'C' grade\")\n",
    "elif(percentage>55 and percentage<=60):\n",
    "    print(\"Total mark of the student is : \",tmark)\n",
    "    print(\"Percentage of the student :\",percentage)\n",
    "    print(\"The student passed with 'B' grade\")\n",
    "elif(percentage>60 and percentage<=70):\n",
    "    print(\"Total mark of the student is : \",tmark)\n",
    "    print(\"Percentage of the student :\",percentage)\n",
    "    print(\"The student passed with 'A' grade\")\n",
    "elif(percentage>70 and percentage<=80):\n",
    "    print(\"Total mark of the student is : \",tmark)\n",
    "    print(\"Percentage of the student :\",percentage)\n",
    "    print(\"The student passed with 'O' grade\")\n",
    "else:\n",
    "    print(\"Fail\")\n"
   ]
  },
  {
   "cell_type": "code",
   "execution_count": null,
   "id": "92bdb8d5",
   "metadata": {},
   "outputs": [],
   "source": [
    "no=int(input(\"Enter a number\"))\n",
    "no1=no\n",
    "rev=0\n",
    "while(no>0):\n",
    "    dg=no%10\n",
    "    #if(dg%2==0):\n",
    "    #print(int(dg))\n",
    "    rev=rev*10+dg\n",
    "    no=no//10\n",
    "if(no1==rev):\n",
    "    print('No. is palindrom')    \n",
    "else:\n",
    "    print('No. is not palimdrom')\n",
    "        \n",
    "    "
   ]
  },
  {
   "cell_type": "code",
   "execution_count": 3,
   "id": "8603b1b3",
   "metadata": {},
   "outputs": [
    {
     "name": "stdout",
     "output_type": "stream",
     "text": [
      "* \n",
      "* * \n",
      "* * * \n",
      "* * * * \n",
      "* * * * * \n",
      "\n",
      "***END***\n"
     ]
    }
   ],
   "source": [
    "l=1\n",
    "while(l<=5):\n",
    "    c=1\n",
    "    while(c<=l):\n",
    "        print('*',end=\" \")\n",
    "        c=c+1\n",
    "    print()\n",
    "    l=l+1\n",
    "print('\\n***END***')"
   ]
  },
  {
   "cell_type": "code",
   "execution_count": null,
   "id": "917f54b7",
   "metadata": {},
   "outputs": [],
   "source": [
    "n=int(input('Enter a number'))\n",
    "for i in range(0, n):\n",
    "     \n",
    "        # inner loop to handle number of columns\n",
    "        # values changing acc. to outer loop\n",
    "        for j in range(0, i+1):\n",
    "         \n",
    "            # printing stars\n",
    "            print(\"* \",end=\"\")\n",
    "      \n",
    "        # ending line after each row\n",
    "        print(\"\\r\")"
   ]
  },
  {
   "cell_type": "code",
   "execution_count": null,
   "id": "dcdced2e",
   "metadata": {},
   "outputs": [],
   "source": []
  }
 ],
 "metadata": {
  "kernelspec": {
   "display_name": "Python 3 (ipykernel)",
   "language": "python",
   "name": "python3"
  },
  "language_info": {
   "codemirror_mode": {
    "name": "ipython",
    "version": 3
   },
   "file_extension": ".py",
   "mimetype": "text/x-python",
   "name": "python",
   "nbconvert_exporter": "python",
   "pygments_lexer": "ipython3",
   "version": "3.9.7"
  }
 },
 "nbformat": 4,
 "nbformat_minor": 5
}
